{
 "cells": [
  {
   "cell_type": "markdown",
   "metadata": {},
   "source": [
    "# Reference\n",
    "- https://www.geeksforgeeks.org/huffman-coding-greedy-algo-3/\n",
    "- https://github.com/gg-z/huffman_coding\n",
    "- https://github.com/sudhamshu091/Huffman-Encoding-Decoding-For-Image-Compression\n",
    "- https://github.com/Wittline/wbz\n",
    "- https://github.com/prashant-kikani/image-optimizer"
   ]
  },
  {
   "cell_type": "code",
   "execution_count": 5,
   "metadata": {},
   "outputs": [],
   "source": [
    "import heapq\n",
    "from collections import defaultdict\n",
    "\n",
    "class Node:\n",
    "    def __init__(self, symbol=None, prob=0):\n",
    "        self.symbol = symbol\n",
    "        self.prob = prob\n",
    "        self.left = None\n",
    "        self.right = None\n",
    "    \n",
    "    def __lt__(self, other):\n",
    "        return self.prob < other.prob\n",
    "\n",
    "def huffman_code(symbols, probabilities):\n",
    "    heap = [Node(symbol, prob) for symbol, prob in zip(symbols, probabilities)]\n",
    "    heapq.heapify(heap)\n",
    "    \n",
    "    while len(heap) > 1:\n",
    "        left = heapq.heappop(heap)\n",
    "        right = heapq.heappop(heap)\n",
    "        merged = Node(prob=left.prob + right.prob)\n",
    "        merged.left = left\n",
    "        merged.right = right\n",
    "        heapq.heappush(heap, merged)\n",
    "    \n",
    "    def gen_code(node, prefix=\"\"):\n",
    "        if node is None:\n",
    "            return {}\n",
    "        if node.symbol is not None:\n",
    "            return {node.symbol: prefix}\n",
    "        codes = {}\n",
    "        codes.update(gen_code(node.left, prefix + \"0\"))\n",
    "        codes.update(gen_code(node.right, prefix + \"1\"))\n",
    "        return codes\n",
    "    \n",
    "    root = heap[0]\n",
    "    return gen_code(root)\n"
   ]
  },
  {
   "cell_type": "code",
   "execution_count": 4,
   "metadata": {},
   "outputs": [
    {
     "name": "stdout",
     "output_type": "stream",
     "text": [
      "(('C', '0'), ('A', '10'), ('E', '1100'), ('D', '1101'), ('B', '111'))\n"
     ]
    }
   ],
   "source": [
    "symbols = ['A', 'B', 'C', 'D', 'E']\n",
    "probs = [0.3, 0.2, 0.4, 0.05, 0.05]\n",
    "codes = huffman_code(symbols, probs)\n",
    "\n",
    "output = tuple((symbol, code) for symbol, code in codes.items())\n",
    "print(output)"
   ]
  }
 ],
 "metadata": {
  "kernelspec": {
   "display_name": "delta",
   "language": "python",
   "name": "python3"
  },
  "language_info": {
   "codemirror_mode": {
    "name": "ipython",
    "version": 3
   },
   "file_extension": ".py",
   "mimetype": "text/x-python",
   "name": "python",
   "nbconvert_exporter": "python",
   "pygments_lexer": "ipython3",
   "version": "3.11.5"
  }
 },
 "nbformat": 4,
 "nbformat_minor": 2
}
